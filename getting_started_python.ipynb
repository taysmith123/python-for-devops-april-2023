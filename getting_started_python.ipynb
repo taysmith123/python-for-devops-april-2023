{
  "nbformat": 4,
  "nbformat_minor": 0,
  "metadata": {
    "colab": {
      "provenance": [],
      "authorship_tag": "ABX9TyMhb+JEyIYl+9NSGfnpEWBi",
      "include_colab_link": true
    },
    "kernelspec": {
      "name": "python3",
      "display_name": "Python 3"
    },
    "language_info": {
      "name": "python"
    }
  },
  "cells": [
    {
      "cell_type": "markdown",
      "metadata": {
        "id": "view-in-github",
        "colab_type": "text"
      },
      "source": [
        "<a href=\"https://colab.research.google.com/github/taysmith123/python-for-devops-april-2023/blob/main/getting_started_python.ipynb\" target=\"_parent\"><img src=\"https://colab.research.google.com/assets/colab-badge.svg\" alt=\"Open In Colab\"/></a>"
      ]
    },
    {
      "cell_type": "markdown",
      "source": [],
      "metadata": {
        "id": "gygn68ZyNePW"
      }
    },
    {
      "cell_type": "markdown",
      "source": [
        "# Intro to Python for Devops"
      ],
      "metadata": {
        "id": "eho7qmk7NjcC"
      }
    },
    {
      "cell_type": "code",
      "source": [],
      "metadata": {
        "id": "LO4OZzRYNjFS"
      },
      "execution_count": null,
      "outputs": []
    },
    {
      "cell_type": "code",
      "execution_count": null,
      "metadata": {
        "id": "JLY1SZ3HBHVc"
      },
      "outputs": [],
      "source": []
    }
  ]
}